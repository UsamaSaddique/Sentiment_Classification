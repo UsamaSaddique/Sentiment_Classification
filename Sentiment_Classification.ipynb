{
 "cells": [
  {
   "cell_type": "code",
   "execution_count": 100,
   "metadata": {
    "collapsed": true,
    "ExecuteTime": {
     "end_time": "2023-06-14T10:12:46.698729711Z",
     "start_time": "2023-06-14T10:12:46.687264963Z"
    }
   },
   "outputs": [],
   "source": [
    "import numpy as np\n",
    "import pandas as pd\n",
    "import tensorflow_datasets as tfds\n",
    "import matplotlib.pyplot as plt"
   ]
  },
  {
   "cell_type": "code",
   "execution_count": 101,
   "outputs": [],
   "source": [
    "\n",
    "dataset = tfds.load('amazon_us_reviews/Mobile_Electronics_v1_00', split='train',shuffle_files=True)"
   ],
   "metadata": {
    "collapsed": false,
    "ExecuteTime": {
     "end_time": "2023-06-14T10:12:56.649157229Z",
     "start_time": "2023-06-14T10:12:56.516621702Z"
    }
   }
  },
  {
   "cell_type": "code",
   "execution_count": 102,
   "outputs": [
    {
     "name": "stderr",
     "output_type": "stream",
     "text": [
      "2023-06-14 15:12:58.818482: I tensorflow/core/common_runtime/executor.cc:1197] [/device:CPU:0] (DEBUG INFO) Executor start aborting (this does not indicate an error and you can ignore this message): INVALID_ARGUMENT: You must feed a value for placeholder tensor 'Placeholder/_0' with dtype string and shape [1]\n",
      "\t [[{{node Placeholder/_0}}]]\n",
      "2023-06-14 15:12:58.819811: I tensorflow/core/common_runtime/executor.cc:1197] [/device:CPU:0] (DEBUG INFO) Executor start aborting (this does not indicate an error and you can ignore this message): INVALID_ARGUMENT: You must feed a value for placeholder tensor 'Placeholder/_3' with dtype int64 and shape [1]\n",
      "\t [[{{node Placeholder/_3}}]]\n"
     ]
    },
    {
     "data": {
      "text/plain": "  data/customer_id  data/helpful_votes data/marketplace  \\\n0      b'20980074'                   0            b'US'   \n1        b'779273'                   0            b'US'   \n2      b'15410531'                   0            b'US'   \n3      b'27389005'                   0            b'US'   \n4       b'2663569'                   0            b'US'   \n\n   data/product_category data/product_id data/product_parent  \\\n0  b'Mobile_Electronics'   b'B00D1847NE'        b'274617424'   \n1  b'Mobile_Electronics'   b'B00KMO6DYG'        b'397452138'   \n2  b'Mobile_Electronics'   b'B000GWLL0K'        b'948304826'   \n3  b'Mobile_Electronics'   b'B008L3JE6Y'        b'466340015'   \n4  b'Mobile_Electronics'   b'B00GHZS4SC'        b'350592810'   \n\n                                  data/product_title  \\\n0  b'Teenage Mutant Ninja Turtles Boombox CD Play...   \n1  b'4 Gauge Amp Kit Amplifier Install Wiring Com...   \n2  b'Travel Wall Charger fits Creative Zen Vision...   \n3  b'High Grade Robust 360\\xc2\\xb0 Adjustable Car...   \n4  b'HDE Multifunctional Bluetooth FM Audio Car K...   \n\n                                    data/review_body data/review_date  \\\n0                                   b'Does not work'    b'2015-01-09'   \n1  b'This is a great wiring kit i used it to set ...    b'2015-08-06'   \n2  b'It works great so much faster than USB charg...    b'2007-03-15'   \n3  b'This product was purchased to hold a monitor...    b'2013-07-30'   \n4  b\"it works but it has really bad sound quality...    b'2014-12-31'   \n\n                       data/review_headline     data/review_id  \\\n0                               b'One Star'  b'R1OVS0D6SEXPW7'   \n1                              b'Great kit'   b'R9VSD0ET8FERB'   \n2  b'A/C Charger for Creative Zen Vision M'  b'R3ISXCZHWLJLBH'   \n3                           b'camera stand'  b'R1TWVUDOFJSQAW'   \n4                      b'bad sound quality'  b'R2PEOEUR1LP0GH'   \n\n   data/star_rating  data/total_votes  data/verified_purchase  data/vine  \n0                 1                 0                       0          1  \n1                 4                 0                       0          1  \n2                 5                 0                       0          1  \n3                 5                 0                       0          1  \n4                 3                 0                       0          1  ",
      "text/html": "<div>\n<style scoped>\n    .dataframe tbody tr th:only-of-type {\n        vertical-align: middle;\n    }\n\n    .dataframe tbody tr th {\n        vertical-align: top;\n    }\n\n    .dataframe thead th {\n        text-align: right;\n    }\n</style>\n<table border=\"1\" class=\"dataframe\">\n  <thead>\n    <tr style=\"text-align: right;\">\n      <th></th>\n      <th>data/customer_id</th>\n      <th>data/helpful_votes</th>\n      <th>data/marketplace</th>\n      <th>data/product_category</th>\n      <th>data/product_id</th>\n      <th>data/product_parent</th>\n      <th>data/product_title</th>\n      <th>data/review_body</th>\n      <th>data/review_date</th>\n      <th>data/review_headline</th>\n      <th>data/review_id</th>\n      <th>data/star_rating</th>\n      <th>data/total_votes</th>\n      <th>data/verified_purchase</th>\n      <th>data/vine</th>\n    </tr>\n  </thead>\n  <tbody>\n    <tr>\n      <th>0</th>\n      <td>b'20980074'</td>\n      <td>0</td>\n      <td>b'US'</td>\n      <td>b'Mobile_Electronics'</td>\n      <td>b'B00D1847NE'</td>\n      <td>b'274617424'</td>\n      <td>b'Teenage Mutant Ninja Turtles Boombox CD Play...</td>\n      <td>b'Does not work'</td>\n      <td>b'2015-01-09'</td>\n      <td>b'One Star'</td>\n      <td>b'R1OVS0D6SEXPW7'</td>\n      <td>1</td>\n      <td>0</td>\n      <td>0</td>\n      <td>1</td>\n    </tr>\n    <tr>\n      <th>1</th>\n      <td>b'779273'</td>\n      <td>0</td>\n      <td>b'US'</td>\n      <td>b'Mobile_Electronics'</td>\n      <td>b'B00KMO6DYG'</td>\n      <td>b'397452138'</td>\n      <td>b'4 Gauge Amp Kit Amplifier Install Wiring Com...</td>\n      <td>b'This is a great wiring kit i used it to set ...</td>\n      <td>b'2015-08-06'</td>\n      <td>b'Great kit'</td>\n      <td>b'R9VSD0ET8FERB'</td>\n      <td>4</td>\n      <td>0</td>\n      <td>0</td>\n      <td>1</td>\n    </tr>\n    <tr>\n      <th>2</th>\n      <td>b'15410531'</td>\n      <td>0</td>\n      <td>b'US'</td>\n      <td>b'Mobile_Electronics'</td>\n      <td>b'B000GWLL0K'</td>\n      <td>b'948304826'</td>\n      <td>b'Travel Wall Charger fits Creative Zen Vision...</td>\n      <td>b'It works great so much faster than USB charg...</td>\n      <td>b'2007-03-15'</td>\n      <td>b'A/C Charger for Creative Zen Vision M'</td>\n      <td>b'R3ISXCZHWLJLBH'</td>\n      <td>5</td>\n      <td>0</td>\n      <td>0</td>\n      <td>1</td>\n    </tr>\n    <tr>\n      <th>3</th>\n      <td>b'27389005'</td>\n      <td>0</td>\n      <td>b'US'</td>\n      <td>b'Mobile_Electronics'</td>\n      <td>b'B008L3JE6Y'</td>\n      <td>b'466340015'</td>\n      <td>b'High Grade Robust 360\\xc2\\xb0 Adjustable Car...</td>\n      <td>b'This product was purchased to hold a monitor...</td>\n      <td>b'2013-07-30'</td>\n      <td>b'camera stand'</td>\n      <td>b'R1TWVUDOFJSQAW'</td>\n      <td>5</td>\n      <td>0</td>\n      <td>0</td>\n      <td>1</td>\n    </tr>\n    <tr>\n      <th>4</th>\n      <td>b'2663569'</td>\n      <td>0</td>\n      <td>b'US'</td>\n      <td>b'Mobile_Electronics'</td>\n      <td>b'B00GHZS4SC'</td>\n      <td>b'350592810'</td>\n      <td>b'HDE Multifunctional Bluetooth FM Audio Car K...</td>\n      <td>b\"it works but it has really bad sound quality...</td>\n      <td>b'2014-12-31'</td>\n      <td>b'bad sound quality'</td>\n      <td>b'R2PEOEUR1LP0GH'</td>\n      <td>3</td>\n      <td>0</td>\n      <td>0</td>\n      <td>1</td>\n    </tr>\n  </tbody>\n</table>\n</div>"
     },
     "execution_count": 102,
     "metadata": {},
     "output_type": "execute_result"
    }
   ],
   "source": [
    "dataset = tfds.as_dataframe(dataset)\n",
    "dataset.head()"
   ],
   "metadata": {
    "collapsed": false,
    "ExecuteTime": {
     "end_time": "2023-06-14T10:14:21.600921128Z",
     "start_time": "2023-06-14T10:12:58.812628636Z"
    }
   }
  },
  {
   "cell_type": "code",
   "execution_count": 103,
   "outputs": [
    {
     "data": {
      "text/plain": "                                    data/review_body  data/star_rating\n0                                   b'Does not work'                 1\n1  b'This is a great wiring kit i used it to set ...                 4\n2  b'It works great so much faster than USB charg...                 5\n3  b'This product was purchased to hold a monitor...                 5\n4  b\"it works but it has really bad sound quality...                 3",
      "text/html": "<div>\n<style scoped>\n    .dataframe tbody tr th:only-of-type {\n        vertical-align: middle;\n    }\n\n    .dataframe tbody tr th {\n        vertical-align: top;\n    }\n\n    .dataframe thead th {\n        text-align: right;\n    }\n</style>\n<table border=\"1\" class=\"dataframe\">\n  <thead>\n    <tr style=\"text-align: right;\">\n      <th></th>\n      <th>data/review_body</th>\n      <th>data/star_rating</th>\n    </tr>\n  </thead>\n  <tbody>\n    <tr>\n      <th>0</th>\n      <td>b'Does not work'</td>\n      <td>1</td>\n    </tr>\n    <tr>\n      <th>1</th>\n      <td>b'This is a great wiring kit i used it to set ...</td>\n      <td>4</td>\n    </tr>\n    <tr>\n      <th>2</th>\n      <td>b'It works great so much faster than USB charg...</td>\n      <td>5</td>\n    </tr>\n    <tr>\n      <th>3</th>\n      <td>b'This product was purchased to hold a monitor...</td>\n      <td>5</td>\n    </tr>\n    <tr>\n      <th>4</th>\n      <td>b\"it works but it has really bad sound quality...</td>\n      <td>3</td>\n    </tr>\n  </tbody>\n</table>\n</div>"
     },
     "execution_count": 103,
     "metadata": {},
     "output_type": "execute_result"
    }
   ],
   "source": [
    "# We are not interested in all the columns in the data. So we'll pick relevant columns of interest\n",
    "columns_of_interest = ['data/review_body', 'data/star_rating']\n",
    "data = dataset[columns_of_interest]\n",
    "data.head()"
   ],
   "metadata": {
    "collapsed": false,
    "ExecuteTime": {
     "end_time": "2023-06-14T10:14:31.922037720Z",
     "start_time": "2023-06-14T10:14:31.880287795Z"
    }
   }
  },
  {
   "cell_type": "code",
   "execution_count": 104,
   "outputs": [
    {
     "name": "stdout",
     "output_type": "stream",
     "text": [
      "Totla number of datapoints are: 104975\n"
     ]
    }
   ],
   "source": [
    "# Getting the number of columns\n",
    "print(\"Totla number of datapoints are:\", data.shape[0])"
   ],
   "metadata": {
    "collapsed": false,
    "ExecuteTime": {
     "end_time": "2023-06-14T10:14:33.613471369Z",
     "start_time": "2023-06-14T10:14:33.593056233Z"
    }
   }
  },
  {
   "cell_type": "code",
   "execution_count": 105,
   "outputs": [
    {
     "name": "stdout",
     "output_type": "stream",
     "text": [
      "Total number of classes are:\n",
      " 5\n"
     ]
    }
   ],
   "source": [
    "# Getting the number of classes\n",
    "print(\"Total number of classes are:\\n\", data['data/star_rating'].nunique())"
   ],
   "metadata": {
    "collapsed": false,
    "ExecuteTime": {
     "end_time": "2023-06-14T10:14:35.806397056Z",
     "start_time": "2023-06-14T10:14:35.793619441Z"
    }
   }
  },
  {
   "cell_type": "code",
   "execution_count": 106,
   "outputs": [
    {
     "name": "stdout",
     "output_type": "stream",
     "text": [
      "Total number of samples per class are:\n",
      " data/star_rating\n",
      "5    52255\n",
      "4    18088\n",
      "1    17587\n",
      "3     9734\n",
      "2     7311\n",
      "Name: count, dtype: int64\n"
     ]
    }
   ],
   "source": [
    "#Getting the number of samples per class\n",
    "print(\"Total number of samples per class are:\\n\", data['data/star_rating'].value_counts())"
   ],
   "metadata": {
    "collapsed": false,
    "ExecuteTime": {
     "end_time": "2023-06-14T10:14:36.832657569Z",
     "start_time": "2023-06-14T10:14:36.807635706Z"
    }
   }
  },
  {
   "cell_type": "code",
   "execution_count": 107,
   "outputs": [
    {
     "name": "stdout",
     "output_type": "stream",
     "text": [
      "Distribution of number of words per sample is:\n"
     ]
    },
    {
     "data": {
      "text/plain": "9        550\n114      534\n115      523\n113      522\n119      518\n        ... \n2724       1\n2729       1\n2731       1\n2732       1\n16009      1\nName: count, Length: 3079, dtype: int64"
     },
     "execution_count": 107,
     "metadata": {},
     "output_type": "execute_result"
    }
   ],
   "source": [
    "# Getting the average number of words per sample\n",
    "print(\"Distribution of number of words per sample is:\")\n",
    "pd.DataFrame([len(s) for s in data['data/review_body']]).value_counts()"
   ],
   "metadata": {
    "collapsed": false,
    "ExecuteTime": {
     "end_time": "2023-06-14T10:14:39.212638620Z",
     "start_time": "2023-06-14T10:14:39.124918909Z"
    }
   }
  },
  {
   "cell_type": "code",
   "execution_count": 108,
   "outputs": [
    {
     "data": {
      "text/plain": "<Figure size 640x480 with 1 Axes>",
      "image/png": "[encoded data removed]"
     },
     "metadata": {},
     "output_type": "display_data"
    }
   ],
   "source": [
    "# Ploting distribution of sample length\n",
    "def plot_sample_length_distribution(sample_texts):\n",
    "    plt.hist([len(s) for s in sample_texts], 50)\n",
    "    plt.xlabel(\"length of a sample\")\n",
    "    plt.ylabel(\"Number of samples\")\n",
    "    plt.title(\"Sample length distribution\")\n",
    "    plt.show()\n",
    "\n",
    "plot_sample_length_distribution(data['data/review_body'].tolist())\n"
   ],
   "metadata": {
    "collapsed": false,
    "ExecuteTime": {
     "end_time": "2023-06-14T10:14:41.595309125Z",
     "start_time": "2023-06-14T10:14:40.442975654Z"
    }
   }
  },
  {
   "cell_type": "code",
   "execution_count": 109,
   "outputs": [
    {
     "data": {
      "text/plain": "                                        data/review_body  data/star_rating\n87666  b\"The motor spins and is not stationary. That ...                 3\n47509                                            b'Fake'                 1\n69877  b\"Even though there are finally some silicone ...                 5\n11951  b\"Absolutely Wonderful:  This product is every...                 5\n73562  b\"Love this Bluetooth speaker...easy setup, wo...                 5",
      "text/html": "<div>\n<style scoped>\n    .dataframe tbody tr th:only-of-type {\n        vertical-align: middle;\n    }\n\n    .dataframe tbody tr th {\n        vertical-align: top;\n    }\n\n    .dataframe thead th {\n        text-align: right;\n    }\n</style>\n<table border=\"1\" class=\"dataframe\">\n  <thead>\n    <tr style=\"text-align: right;\">\n      <th></th>\n      <th>data/review_body</th>\n      <th>data/star_rating</th>\n    </tr>\n  </thead>\n  <tbody>\n    <tr>\n      <th>87666</th>\n      <td>b\"The motor spins and is not stationary. That ...</td>\n      <td>3</td>\n    </tr>\n    <tr>\n      <th>47509</th>\n      <td>b'Fake'</td>\n      <td>1</td>\n    </tr>\n    <tr>\n      <th>69877</th>\n      <td>b\"Even though there are finally some silicone ...</td>\n      <td>5</td>\n    </tr>\n    <tr>\n      <th>11951</th>\n      <td>b\"Absolutely Wonderful:  This product is every...</td>\n      <td>5</td>\n    </tr>\n    <tr>\n      <th>73562</th>\n      <td>b\"Love this Bluetooth speaker...easy setup, wo...</td>\n      <td>5</td>\n    </tr>\n  </tbody>\n</table>\n</div>"
     },
     "execution_count": 109,
     "metadata": {},
     "output_type": "execute_result"
    }
   ],
   "source": [
    "# Taking a sample of 30% of the dataset for the purpose of demonstration\n",
    "data = data.sample(frac=0.3, random_state=42)\n",
    "data.head()"
   ],
   "metadata": {
    "collapsed": false,
    "ExecuteTime": {
     "end_time": "2023-06-14T10:14:44.423588545Z",
     "start_time": "2023-06-14T10:14:44.368087420Z"
    }
   }
  },
  {
   "cell_type": "code",
   "execution_count": 110,
   "outputs": [
    {
     "name": "stdout",
     "output_type": "stream",
     "text": [
      "Number of datapoints after sampling (31492, 2)\n"
     ]
    }
   ],
   "source": [
    "print(\"Number of datapoints after sampling\", data.shape)"
   ],
   "metadata": {
    "collapsed": false,
    "ExecuteTime": {
     "end_time": "2023-06-14T10:14:46.080795042Z",
     "start_time": "2023-06-14T10:14:46.067188071Z"
    }
   }
  },
  {
   "cell_type": "code",
   "execution_count": 111,
   "outputs": [
    {
     "data": {
      "text/plain": "                                        data/review_body  data/star_rating  \\\n87666  b\"The motor spins and is not stationary. That ...                 3   \n47509                                            b'Fake'                 1   \n69877  b\"Even though there are finally some silicone ...                 5   \n11951  b\"Absolutely Wonderful:  This product is every...                 5   \n73562  b\"Love this Bluetooth speaker...easy setup, wo...                 5   \n\n      sentiment  \n87666  Positive  \n47509  Negative  \n69877  Positive  \n11951  Positive  \n73562  Positive  ",
      "text/html": "<div>\n<style scoped>\n    .dataframe tbody tr th:only-of-type {\n        vertical-align: middle;\n    }\n\n    .dataframe tbody tr th {\n        vertical-align: top;\n    }\n\n    .dataframe thead th {\n        text-align: right;\n    }\n</style>\n<table border=\"1\" class=\"dataframe\">\n  <thead>\n    <tr style=\"text-align: right;\">\n      <th></th>\n      <th>data/review_body</th>\n      <th>data/star_rating</th>\n      <th>sentiment</th>\n    </tr>\n  </thead>\n  <tbody>\n    <tr>\n      <th>87666</th>\n      <td>b\"The motor spins and is not stationary. That ...</td>\n      <td>3</td>\n      <td>Positive</td>\n    </tr>\n    <tr>\n      <th>47509</th>\n      <td>b'Fake'</td>\n      <td>1</td>\n      <td>Negative</td>\n    </tr>\n    <tr>\n      <th>69877</th>\n      <td>b\"Even though there are finally some silicone ...</td>\n      <td>5</td>\n      <td>Positive</td>\n    </tr>\n    <tr>\n      <th>11951</th>\n      <td>b\"Absolutely Wonderful:  This product is every...</td>\n      <td>5</td>\n      <td>Positive</td>\n    </tr>\n    <tr>\n      <th>73562</th>\n      <td>b\"Love this Bluetooth speaker...easy setup, wo...</td>\n      <td>5</td>\n      <td>Positive</td>\n    </tr>\n  </tbody>\n</table>\n</div>"
     },
     "execution_count": 111,
     "metadata": {},
     "output_type": "execute_result"
    }
   ],
   "source": [
    "# Converting star-rating to sentiments\n",
    "data['sentiment']=data['data/star_rating'].apply(lambda rating: \"Positive\" if rating >=3 else \"Negative\")\n",
    "data.head()"
   ],
   "metadata": {
    "collapsed": false,
    "ExecuteTime": {
     "end_time": "2023-06-14T10:14:51.015637887Z",
     "start_time": "2023-06-14T10:14:50.991595417Z"
    }
   }
  },
  {
   "cell_type": "code",
   "execution_count": 112,
   "outputs": [
    {
     "data": {
      "text/plain": "                                        data/review_body  sentiment\n87666  b\"The motor spins and is not stationary. That ...          1\n47509                                            b'Fake'          0\n69877  b\"Even though there are finally some silicone ...          1\n11951  b\"Absolutely Wonderful:  This product is every...          1\n73562  b\"Love this Bluetooth speaker...easy setup, wo...          1",
      "text/html": "<div>\n<style scoped>\n    .dataframe tbody tr th:only-of-type {\n        vertical-align: middle;\n    }\n\n    .dataframe tbody tr th {\n        vertical-align: top;\n    }\n\n    .dataframe thead th {\n        text-align: right;\n    }\n</style>\n<table border=\"1\" class=\"dataframe\">\n  <thead>\n    <tr style=\"text-align: right;\">\n      <th></th>\n      <th>data/review_body</th>\n      <th>sentiment</th>\n    </tr>\n  </thead>\n  <tbody>\n    <tr>\n      <th>87666</th>\n      <td>b\"The motor spins and is not stationary. That ...</td>\n      <td>1</td>\n    </tr>\n    <tr>\n      <th>47509</th>\n      <td>b'Fake'</td>\n      <td>0</td>\n    </tr>\n    <tr>\n      <th>69877</th>\n      <td>b\"Even though there are finally some silicone ...</td>\n      <td>1</td>\n    </tr>\n    <tr>\n      <th>11951</th>\n      <td>b\"Absolutely Wonderful:  This product is every...</td>\n      <td>1</td>\n    </tr>\n    <tr>\n      <th>73562</th>\n      <td>b\"Love this Bluetooth speaker...easy setup, wo...</td>\n      <td>1</td>\n    </tr>\n  </tbody>\n</table>\n</div>"
     },
     "execution_count": 112,
     "metadata": {},
     "output_type": "execute_result"
    }
   ],
   "source": [
    "# One-hot encoding the target label\n",
    "data['sentiment']= data['sentiment'].map({'Positive':1, 'Negative':0})\n",
    "# Dropping the rating column\n",
    "data.drop(columns =[\"data/star_rating\"], inplace =True)\n",
    "data.head()"
   ],
   "metadata": {
    "collapsed": false,
    "ExecuteTime": {
     "end_time": "2023-06-14T10:14:56.065133879Z",
     "start_time": "2023-06-14T10:14:56.028519265Z"
    }
   }
  },
  {
   "cell_type": "code",
   "execution_count": 113,
   "outputs": [
    {
     "data": {
      "text/plain": "                                                  review  sentiment\n87666  the motor spins and is not stationary. that se...          1\n47509                                               fake          0\n69877  even though there are finally some silicone ca...          1\n11951  absolutely wonderful:  this product is everyth...          1\n73562  love this bluetooth speaker...easy setup, wond...          1",
      "text/html": "<div>\n<style scoped>\n    .dataframe tbody tr th:only-of-type {\n        vertical-align: middle;\n    }\n\n    .dataframe tbody tr th {\n        vertical-align: top;\n    }\n\n    .dataframe thead th {\n        text-align: right;\n    }\n</style>\n<table border=\"1\" class=\"dataframe\">\n  <thead>\n    <tr style=\"text-align: right;\">\n      <th></th>\n      <th>review</th>\n      <th>sentiment</th>\n    </tr>\n  </thead>\n  <tbody>\n    <tr>\n      <th>87666</th>\n      <td>the motor spins and is not stationary. that se...</td>\n      <td>1</td>\n    </tr>\n    <tr>\n      <th>47509</th>\n      <td>fake</td>\n      <td>0</td>\n    </tr>\n    <tr>\n      <th>69877</th>\n      <td>even though there are finally some silicone ca...</td>\n      <td>1</td>\n    </tr>\n    <tr>\n      <th>11951</th>\n      <td>absolutely wonderful:  this product is everyth...</td>\n      <td>1</td>\n    </tr>\n    <tr>\n      <th>73562</th>\n      <td>love this bluetooth speaker...easy setup, wond...</td>\n      <td>1</td>\n    </tr>\n  </tbody>\n</table>\n</div>"
     },
     "execution_count": 113,
     "metadata": {},
     "output_type": "execute_result"
    }
   ],
   "source": [
    "data.rename(columns={'data/review_body': 'review'}, inplace=True)\n",
    "data['review']= data['review'].str.decode('utf-8')\n",
    "data['review'] = data['review'].apply(str.lower)\n",
    "data['review']\n",
    "data.head()"
   ],
   "metadata": {
    "collapsed": false,
    "ExecuteTime": {
     "end_time": "2023-06-14T10:15:03.038606446Z",
     "start_time": "2023-06-14T10:15:02.961362918Z"
    }
   }
  },
  {
   "cell_type": "code",
   "execution_count": 114,
   "outputs": [
    {
     "data": {
      "text/plain": "sentiment\n1    24067\n0     7425\nName: count, dtype: int64"
     },
     "execution_count": 114,
     "metadata": {},
     "output_type": "execute_result"
    }
   ],
   "source": [
    "#Check samples per class\n",
    "data['sentiment'].value_counts()"
   ],
   "metadata": {
    "collapsed": false,
    "ExecuteTime": {
     "end_time": "2023-06-14T10:15:09.840887688Z",
     "start_time": "2023-06-14T10:15:09.819337778Z"
    }
   }
  },
  {
   "cell_type": "code",
   "execution_count": 115,
   "outputs": [
    {
     "data": {
      "text/plain": "sentiment\n1    7425\n0    7425\nName: count, dtype: int64"
     },
     "execution_count": 115,
     "metadata": {},
     "output_type": "execute_result"
    }
   ],
   "source": [
    "#Balancing the classes for the purpose of demonstration\n",
    "Positive = data[data['sentiment']==1].sample(n=7425)\n",
    "Negative = data[data['sentiment']==0]\n",
    "train_data = pd.concat([Positive, Negative]).sample(frac=1).reset_index(drop=True)\n",
    "train_data.head()\n",
    "train_data['sentiment'].value_counts()"
   ],
   "metadata": {
    "collapsed": false,
    "ExecuteTime": {
     "end_time": "2023-06-14T10:15:14.698579802Z",
     "start_time": "2023-06-14T10:15:14.667735785Z"
    }
   }
  },
  {
   "cell_type": "code",
   "execution_count": 74,
   "outputs": [
    {
     "data": {
      "text/plain": "                                    data/review_body  sentiment\n0  b\"When this device does record the quality is ...          0\n1  b\"This was a really cute armband for my ipod t...          0\n2  b\"it's working ok.  easy instalationn & it is ...          1\n3  b\"I checked out other more expensive cases but...          1\n4  b\"If BTY is trying to sell these as 1350mAh ba...          0",
      "text/html": "<div>\n<style scoped>\n    .dataframe tbody tr th:only-of-type {\n        vertical-align: middle;\n    }\n\n    .dataframe tbody tr th {\n        vertical-align: top;\n    }\n\n    .dataframe thead th {\n        text-align: right;\n    }\n</style>\n<table border=\"1\" class=\"dataframe\">\n  <thead>\n    <tr style=\"text-align: right;\">\n      <th></th>\n      <th>data/review_body</th>\n      <th>sentiment</th>\n    </tr>\n  </thead>\n  <tbody>\n    <tr>\n      <th>0</th>\n      <td>b\"When this device does record the quality is ...</td>\n      <td>0</td>\n    </tr>\n    <tr>\n      <th>1</th>\n      <td>b\"This was a really cute armband for my ipod t...</td>\n      <td>0</td>\n    </tr>\n    <tr>\n      <th>2</th>\n      <td>b\"it's working ok.  easy instalationn &amp; it is ...</td>\n      <td>1</td>\n    </tr>\n    <tr>\n      <th>3</th>\n      <td>b\"I checked out other more expensive cases but...</td>\n      <td>1</td>\n    </tr>\n    <tr>\n      <th>4</th>\n      <td>b\"If BTY is trying to sell these as 1350mAh ba...</td>\n      <td>0</td>\n    </tr>\n  </tbody>\n</table>\n</div>"
     },
     "execution_count": 74,
     "metadata": {},
     "output_type": "execute_result"
    }
   ],
   "source": [
    "train_data.head()"
   ],
   "metadata": {
    "collapsed": false,
    "ExecuteTime": {
     "end_time": "2023-06-14T09:54:14.691556185Z",
     "start_time": "2023-06-14T09:54:14.683135960Z"
    }
   }
  },
  {
   "cell_type": "code",
   "execution_count": 117,
   "outputs": [
    {
     "name": "stdout",
     "output_type": "stream",
     "text": [
      "Sample reviews:\n",
      "[\"i like the size and buttons are easy to find without looking. can put in arm rest or pocket feels good in had. only thing is all the buttons do not work. i still find myself using the screen because the is no fuction button or the button won't do function. i would still buy again it's worth having.\", '2 cables did not work right onthe get go. the last one worked but iphone said was not compatable. poor', 'product looks great, but functionality is aweful! i had perfect reception with my oem antennae, and had sub par reception with this product. not worth the money. i would suggest not purchasing this product.', \"the advertisemnt states you can speak up to a 16 mile range but that's not completely true.  once you receive the product and read the fine print on the back of the packaging insert, which people usually throw away, you will see a chart that states:  up to 16 miles, mountain to valley; up to 5 miles, lake area and up to 1 mile urban area.  i'm in an urban area and was looking for something that was up to a 10-16 mile range.  i'm unclear why this wasn't mentioned in the product features or technical details; this way i could have saved the money i spent.\", \"[[videoid:mo1igrqpckss0e3]]this is my first video review for simplyvibe sv-s350plus premium rechargeable speaker.  this is not a technical or comprehensive review, but this was made to show a comparison between the stock ipad built-in speaker and the sv-350p.    i was looking for a small, more portable battery powered speaker to use with the ipad, but decided to go with this one because of many positive and well written reviews.  i'm not sure why there is one reviewer who thought this speaker was so horrible, but to my surprise, it was better than what i expected.  i think one has to remember that this is an affordable speaker unit for your portable devices.  i'm sure it's not meant to replace your bose home theater system.      since there is a review already with all the technical information, i won't repeat them in my review.    i highly recommend this speaker for any ipad users, so take a look at my short review and judge for yourself. enjoy!\", 'i bought this for my fiancees car.  she just wanted a stereo with an aux plug.  it is terrible, awful, and pathetic.  i would spend the extra 20 bucks and get a cheap sony or jensen.']\n",
      "Corresponding labels:\n",
      "[1, 0, 0, 0, 1, 0]\n"
     ]
    }
   ],
   "source": [
    "# Sampling reviews and their corresponding labels\n",
    "reviews = train_data['review'].tolist()\n",
    "labels = train_data['sentiment'].tolist()\n",
    "print(\"Sample reviews:\")\n",
    "print(reviews[10:16])\n",
    "print(\"Corresponding labels:\")\n",
    "print(labels[10:16])"
   ],
   "metadata": {
    "collapsed": false,
    "ExecuteTime": {
     "end_time": "2023-06-14T10:18:37.585761381Z",
     "start_time": "2023-06-14T10:18:37.552805469Z"
    }
   }
  },
  {
   "cell_type": "code",
   "execution_count": 123,
   "outputs": [],
   "source": [
    "# Split the data into train, test and validation split\n",
    "from sklearn.model_selection import train_test_split\n",
    "X_train, X_test, y_train, y_test = train_test_split(reviews, labels, test_size=0.2, random_state=42)\n"
   ],
   "metadata": {
    "collapsed": false,
    "ExecuteTime": {
     "end_time": "2023-06-14T10:28:35.127721710Z",
     "start_time": "2023-06-14T10:28:35.108648055Z"
    }
   }
  },
  {
   "cell_type": "code",
   "execution_count": 125,
   "outputs": [
    {
     "name": "stdout",
     "output_type": "stream",
     "text": [
      "Number of training data points are: 11880\n",
      "Number od training labels are : 11880\n",
      "Number of test data points are: 2970\n",
      "Number of test labels are: 2970\n"
     ]
    }
   ],
   "source": [
    "# Length of training and test data\n",
    "print(\"Number of training data points are:\", len(X_train))\n",
    "print(\"Number od training labels are :\", len(y_train))\n",
    "print(\"Number of test data points are:\", len(X_test))\n",
    "print(\"Number of test labels are:\", len(y_test))"
   ],
   "metadata": {
    "collapsed": false,
    "ExecuteTime": {
     "end_time": "2023-06-14T10:38:56.210178831Z",
     "start_time": "2023-06-14T10:38:56.198582712Z"
    }
   }
  },
  {
   "cell_type": "code",
   "execution_count": 127,
   "outputs": [
    {
     "data": {
      "text/plain": "Downloading (…)okenizer_config.json:   0%|          | 0.00/48.0 [00:00<?, ?B/s]",
      "application/vnd.jupyter.widget-view+json": {
       "version_major": 2,
       "version_minor": 0,
       "model_id": "d48c612f1f6143078e3330bd24eea32c"
      }
     },
     "metadata": {},
     "output_type": "display_data"
    },
    {
     "data": {
      "text/plain": "Downloading (…)solve/main/vocab.txt:   0%|          | 0.00/232k [00:00<?, ?B/s]",
      "application/vnd.jupyter.widget-view+json": {
       "version_major": 2,
       "version_minor": 0,
       "model_id": "6e4b2337a30e4bfb8083a097baa9b39f"
      }
     },
     "metadata": {},
     "output_type": "display_data"
    },
    {
     "data": {
      "text/plain": "Downloading (…)lve/main/config.json:   0%|          | 0.00/629 [00:00<?, ?B/s]",
      "application/vnd.jupyter.widget-view+json": {
       "version_major": 2,
       "version_minor": 0,
       "model_id": "9344805564304887825d70f2d57c2acd"
      }
     },
     "metadata": {},
     "output_type": "display_data"
    }
   ],
   "source": [
    "# Loading the tokenizer\n",
    "from transformers import DistilBertTokenizerFast\n",
    "Model_Name = 'distilbert-base-uncased-finetuned-sst-2-english'\n",
    "tokenizer = DistilBertTokenizerFast.from_pretrained(Model_Name)\n"
   ],
   "metadata": {
    "collapsed": false,
    "ExecuteTime": {
     "end_time": "2023-06-14T10:43:35.550563994Z",
     "start_time": "2023-06-14T10:43:29.261555563Z"
    }
   }
  },
  {
   "cell_type": "code",
   "execution_count": 128,
   "outputs": [
    {
     "name": "stdout",
     "output_type": "stream",
     "text": [
      "sentence: i bought this for recording music from an antique phonograph onto my macbook pro running os x 10.4.  i had previously tried using an unpowered microphone plugged into the audio input jack, but that setup produced buzzing and poor sensitivity.<br /><br />this new usb microphone worked great.  i didn't have to install any software, just plugged it in and selected it in the sound preferences.  the sound quality is very clear and sensitive.\n"
     ]
    },
    {
     "data": {
      "text/plain": "{'input_ids': <tf.Tensor: shape=(1, 99), dtype=int32, numpy=\narray([[  101,  1045,  4149,  2023,  2005,  3405,  2189,  2013,  2019,\n        14361,  6887, 17175, 14413,  3031,  2026,  6097,  8654,  4013,\n         2770,  9808,  1060,  2184,  1012,  1018,  1012,  1045,  2018,\n         3130,  2699,  2478,  2019,  4895, 27267, 15545, 13354,  5999,\n         2046,  1996,  5746,  7953,  2990,  1010,  2021,  2008, 16437,\n         2550, 20386,  1998,  3532, 14639,  1012,  1026,  7987,  1013,\n         1028,  1026,  7987,  1013,  1028,  2023,  2047, 18833, 15545,\n         2499,  2307,  1012,  1045,  2134,  1005,  1056,  2031,  2000,\n        16500,  2151,  4007,  1010,  2074, 13354,  5999,  2009,  1999,\n         1998,  3479,  2009,  1999,  1996,  2614, 18394,  1012,  1996,\n         2614,  3737,  2003,  2200,  3154,  1998,  7591,  1012,   102]],\n      dtype=int32)>, 'attention_mask': <tf.Tensor: shape=(1, 99), dtype=int32, numpy=\narray([[1, 1, 1, 1, 1, 1, 1, 1, 1, 1, 1, 1, 1, 1, 1, 1, 1, 1, 1, 1, 1, 1,\n        1, 1, 1, 1, 1, 1, 1, 1, 1, 1, 1, 1, 1, 1, 1, 1, 1, 1, 1, 1, 1, 1,\n        1, 1, 1, 1, 1, 1, 1, 1, 1, 1, 1, 1, 1, 1, 1, 1, 1, 1, 1, 1, 1, 1,\n        1, 1, 1, 1, 1, 1, 1, 1, 1, 1, 1, 1, 1, 1, 1, 1, 1, 1, 1, 1, 1, 1,\n        1, 1, 1, 1, 1, 1, 1, 1, 1, 1, 1]], dtype=int32)>}"
     },
     "execution_count": 128,
     "metadata": {},
     "output_type": "execute_result"
    }
   ],
   "source": [
    "#Sample tokenizer\n",
    "print(\"sentence:\", X_train[1])\n",
    "tokenizer(X_train[1], truncation=True, padding=True, max_length=256, return_tensors='tf')"
   ],
   "metadata": {
    "collapsed": false,
    "ExecuteTime": {
     "end_time": "2023-06-14T10:51:30.373651982Z",
     "start_time": "2023-06-14T10:51:30.288613078Z"
    }
   }
  },
  {
   "cell_type": "code",
   "execution_count": 134,
   "outputs": [],
   "source": [
    "#Performing tokenization\n",
    "Max_length =256\n",
    "train_encodings = tokenizer(X_train, truncation =True,padding =True,max_length = Max_length, return_tensors = 'tf')\n",
    "test_encodings = tokenizer(X_test,truncation = True, padding = True, max_length= Max_length, return_tensors= 'tf')"
   ],
   "metadata": {
    "collapsed": false,
    "ExecuteTime": {
     "end_time": "2023-06-14T11:00:58.202227546Z",
     "start_time": "2023-06-14T11:00:54.963394826Z"
    }
   }
  },
  {
   "cell_type": "code",
   "execution_count": 139,
   "outputs": [],
   "source": [
    "# Now we convert tokenizer to TF object\n",
    "\n",
    "import tensorflow as tf\n",
    "train_dataset = tf.data.Dataset.from_tensor_slices((dict(train_encodings), y_train))\n",
    "test_dataset = tf.data.Dataset.from_tensor_slices((dict(test_encodings), y_test))"
   ],
   "metadata": {
    "collapsed": false,
    "ExecuteTime": {
     "end_time": "2023-06-14T11:08:31.338769401Z",
     "start_time": "2023-06-14T11:08:31.291131307Z"
    }
   }
  },
  {
   "cell_type": "code",
   "execution_count": 140,
   "outputs": [
    {
     "data": {
      "text/plain": "Downloading model.safetensors:   0%|          | 0.00/268M [00:00<?, ?B/s]",
      "application/vnd.jupyter.widget-view+json": {
       "version_major": 2,
       "version_minor": 0,
       "model_id": "ba4336cdf3a24e0fa9043203d96f4b24"
      }
     },
     "metadata": {},
     "output_type": "display_data"
    },
    {
     "name": "stderr",
     "output_type": "stream",
     "text": [
      "All PyTorch model weights were used when initializing TFDistilBertForSequenceClassification.\n",
      "\n",
      "All the weights of TFDistilBertForSequenceClassification were initialized from the PyTorch model.\n",
      "If your task is similar to the task the model of the checkpoint was trained on, you can already use TFDistilBertForSequenceClassification for predictions without further training.\n"
     ]
    }
   ],
   "source": [
    "# now, we will define the model.\n",
    "from transformers import TFDistilBertForSequenceClassification\n",
    "model = TFDistilBertForSequenceClassification.from_pretrained(\n",
    "    pretrained_model_name_or_path = Model_Name,\n",
    "    num_labels =2)"
   ],
   "metadata": {
    "collapsed": false,
    "ExecuteTime": {
     "end_time": "2023-06-14T11:22:14.094143389Z",
     "start_time": "2023-06-14T11:20:26.858038082Z"
    }
   }
  },
  {
   "cell_type": "code",
   "execution_count": 142,
   "outputs": [],
   "source": [
    "# Specify the model optimizer\n",
    "optimizers = tf.optimizers.Adam(\n",
    "    learning_rate=5e-5)"
   ],
   "metadata": {
    "collapsed": false,
    "ExecuteTime": {
     "end_time": "2023-06-14T11:25:52.720499938Z",
     "start_time": "2023-06-14T11:25:52.708895868Z"
    }
   }
  },
  {
   "cell_type": "code",
   "execution_count": 143,
   "outputs": [],
   "source": [
    "# Specify the loss function\n",
    "loss_func = tf.keras.losses.SparseCategoricalCrossentropy(from_logits=True)\n"
   ],
   "metadata": {
    "collapsed": false,
    "ExecuteTime": {
     "end_time": "2023-06-14T11:27:34.579860483Z",
     "start_time": "2023-06-14T11:27:34.520203753Z"
    }
   }
  },
  {
   "cell_type": "code",
   "execution_count": 144,
   "outputs": [],
   "source": [
    "# Compiling the model\n",
    "model.compile(optimizer=optimizers, loss=loss_func, metrics=['accuracy'])"
   ],
   "metadata": {
    "collapsed": false,
    "ExecuteTime": {
     "end_time": "2023-06-14T11:29:01.702933731Z",
     "start_time": "2023-06-14T11:29:01.642851786Z"
    }
   }
  },
  {
   "cell_type": "code",
   "execution_count": 146,
   "outputs": [
    {
     "name": "stdout",
     "output_type": "stream",
     "text": [
      "Model: \"tf_distil_bert_for_sequence_classification\"\n",
      "_________________________________________________________________\n",
      " Layer (type)                Output Shape              Param #   \n",
      "=================================================================\n",
      " distilbert (TFDistilBertMai  multiple                 66362880  \n",
      " nLayer)                                                         \n",
      "                                                                 \n",
      " pre_classifier (Dense)      multiple                  590592    \n",
      "                                                                 \n",
      " classifier (Dense)          multiple                  1538      \n",
      "                                                                 \n",
      " dropout_19 (Dropout)        multiple                  0         \n",
      "                                                                 \n",
      "=================================================================\n",
      "Total params: 66,955,010\n",
      "Trainable params: 66,955,010\n",
      "Non-trainable params: 0\n",
      "_________________________________________________________________\n"
     ]
    }
   ],
   "source": [
    "# Inspect the model\n",
    "model.summary()"
   ],
   "metadata": {
    "collapsed": false,
    "ExecuteTime": {
     "end_time": "2023-06-14T11:29:51.266270725Z",
     "start_time": "2023-06-14T11:29:51.173747687Z"
    }
   }
  },
  {
   "cell_type": "code",
   "execution_count": 149,
   "outputs": [
    {
     "name": "stdout",
     "output_type": "stream",
     "text": [
      "Epoch 1/2\n"
     ]
    },
    {
     "name": "stderr",
     "output_type": "stream",
     "text": [
      "2023-06-14 16:40:50.294389: I tensorflow/core/common_runtime/executor.cc:1197] [/device:CPU:0] (DEBUG INFO) Executor start aborting (this does not indicate an error and you can ignore this message): INVALID_ARGUMENT: You must feed a value for placeholder tensor 'Placeholder/_1' with dtype int32 and shape [11880,256]\n",
      "\t [[{{node Placeholder/_1}}]]\n",
      "2023-06-14 16:40:50.294956: I tensorflow/core/common_runtime/executor.cc:1197] [/device:CPU:0] (DEBUG INFO) Executor start aborting (this does not indicate an error and you can ignore this message): INVALID_ARGUMENT: You must feed a value for placeholder tensor 'Placeholder/_1' with dtype int32 and shape [11880,256]\n",
      "\t [[{{node Placeholder/_1}}]]\n"
     ]
    },
    {
     "name": "stdout",
     "output_type": "stream",
     "text": [
      "743/743 [==============================] - ETA: 0s - loss: 0.2774 - accuracy: 0.8868"
     ]
    },
    {
     "name": "stderr",
     "output_type": "stream",
     "text": [
      "2023-06-14 18:32:49.062057: I tensorflow/core/common_runtime/executor.cc:1197] [/device:CPU:0] (DEBUG INFO) Executor start aborting (this does not indicate an error and you can ignore this message): INVALID_ARGUMENT: You must feed a value for placeholder tensor 'Placeholder/_1' with dtype int32 and shape [2970,256]\n",
      "\t [[{{node Placeholder/_1}}]]\n",
      "2023-06-14 18:32:49.062590: I tensorflow/core/common_runtime/executor.cc:1197] [/device:CPU:0] (DEBUG INFO) Executor start aborting (this does not indicate an error and you can ignore this message): INVALID_ARGUMENT: You must feed a value for placeholder tensor 'Placeholder/_2' with dtype int32 and shape [2970]\n",
      "\t [[{{node Placeholder/_2}}]]\n"
     ]
    },
    {
     "name": "stdout",
     "output_type": "stream",
     "text": [
      "743/743 [==============================] - 7221s 10s/step - loss: 0.2774 - accuracy: 0.8868 - val_loss: 0.2347 - val_accuracy: 0.9010\n",
      "Epoch 2/2\n",
      "743/743 [==============================] - 6461s 9s/step - loss: 0.1650 - accuracy: 0.9396 - val_loss: 0.2598 - val_accuracy: 0.9020\n"
     ]
    },
    {
     "data": {
      "text/plain": "<keras.callbacks.History at 0x7fd92ffbe4a0>"
     },
     "execution_count": 149,
     "metadata": {},
     "output_type": "execute_result"
    }
   ],
   "source": [
    "# Defining hyperparameters\n",
    "Batch_size =16\n",
    "num_epochs =2\n",
    "\n",
    "# Training the model\n",
    "model.fit(train_dataset.shuffle(len(X_train)).batch(Batch_size),\n",
    "          epochs=num_epochs,\n",
    "          batch_size=Batch_size,\n",
    "          validation_data=test_dataset.shuffle(len(X_test)).batch(Batch_size)\n",
    "          )"
   ],
   "metadata": {
    "collapsed": false,
    "ExecuteTime": {
     "end_time": "2023-06-14T15:28:51.542814556Z",
     "start_time": "2023-06-14T11:40:50.269912959Z"
    }
   }
  },
  {
   "cell_type": "code",
   "execution_count": 150,
   "outputs": [],
   "source": [
    "# Saving the model\n",
    "model.save_pretrained(\"/tmp/sentiment_model\")"
   ],
   "metadata": {
    "collapsed": false,
    "ExecuteTime": {
     "end_time": "2023-06-14T15:28:52.070479080Z",
     "start_time": "2023-06-14T15:28:51.533545314Z"
    }
   }
  },
  {
   "cell_type": "code",
   "execution_count": 152,
   "outputs": [],
   "source": [
    "#Preprocessing the unseen data\n",
    "unseen_data=data.sample(frac=0.5, random_state=42)\n",
    "unseen_review = unseen_data['review'].tolist()\n",
    "\n",
    "unseen_encodings = tokenizer(unseen_review,\n",
    "                             padding=True,\n",
    "                             truncation=True,\n",
    "                             max_length=Max_length,\n",
    "                             return_tensors='tf')\n",
    "\n",
    "y_unseen = unseen_data['sentiment'].tolist()\n",
    "unseen_encodings = tf.data.Dataset.from_tensor_slices((dict(unseen_encodings),\n",
    "                                                       y_unseen))"
   ],
   "metadata": {
    "collapsed": false,
    "ExecuteTime": {
     "end_time": "2023-06-14T15:38:16.928711533Z",
     "start_time": "2023-06-14T15:38:15.146333804Z"
    }
   }
  },
  {
   "cell_type": "code",
   "execution_count": 153,
   "outputs": [
    {
     "name": "stderr",
     "output_type": "stream",
     "text": [
      "2023-06-14 20:40:50.692413: I tensorflow/core/common_runtime/executor.cc:1197] [/device:CPU:0] (DEBUG INFO) Executor start aborting (this does not indicate an error and you can ignore this message): INVALID_ARGUMENT: You must feed a value for placeholder tensor 'Placeholder/_1' with dtype int32 and shape [15746,256]\n",
      "\t [[{{node Placeholder/_1}}]]\n",
      "2023-06-14 20:40:50.693369: I tensorflow/core/common_runtime/executor.cc:1197] [/device:CPU:0] (DEBUG INFO) Executor start aborting (this does not indicate an error and you can ignore this message): INVALID_ARGUMENT: You must feed a value for placeholder tensor 'Placeholder/_1' with dtype int32 and shape [15746,256]\n",
      "\t [[{{node Placeholder/_1}}]]\n"
     ]
    },
    {
     "name": "stdout",
     "output_type": "stream",
     "text": [
      "985/985 [==============================] - 11005s 11s/step - loss: 0.2162 - accuracy: 0.9218\n"
     ]
    },
    {
     "data": {
      "text/plain": "{'loss': 0.21618497371673584, 'accuracy': 0.9218214154243469}"
     },
     "execution_count": 153,
     "metadata": {},
     "output_type": "execute_result"
    }
   ],
   "source": [
    "# Evaluating the model\n",
    "model.evaluate(unseen_encodings.shuffle(len(unseen_review)).batch(Batch_size),\n",
    "               return_dict=True,\n",
    "               batch_size=Batch_size)"
   ],
   "metadata": {
    "collapsed": false,
    "ExecuteTime": {
     "end_time": "2023-06-14T18:45:15.031925519Z",
     "start_time": "2023-06-14T15:40:50.708131102Z"
    }
   }
  },
  {
   "cell_type": "code",
   "execution_count": 5,
   "outputs": [
    {
     "name": "stdout",
     "output_type": "stream",
     "text": [
      "Running on local URL:  http://127.0.0.1:7861\n",
      "Running on public URL: https://4dd04bae5029416618.gradio.live\n",
      "\n",
      "This share link expires in 72 hours. For free permanent hosting and GPU upgrades, run `gradio deploy` from Terminal to deploy to Spaces (https://huggingface.co/spaces)\n"
     ]
    },
    {
     "data": {
      "text/plain": "<IPython.core.display.HTML object>",
      "text/html": "<div><iframe src=\"https://4dd04bae5029416618.gradio.live\" width=\"100%\" height=\"500\" allow=\"autoplay; camera; microphone; clipboard-read; clipboard-write;\" frameborder=\"0\" allowfullscreen></iframe></div>"
     },
     "metadata": {},
     "output_type": "display_data"
    },
    {
     "data": {
      "text/plain": ""
     },
     "execution_count": 5,
     "metadata": {},
     "output_type": "execute_result"
    }
   ],
   "source": [
    "import gradio as gr\n",
    "def predict (sentence):\n",
    "    # Loading the model\n",
    "    loaded_model = TFDistilBertForSequenceClassification.from_pretrained(\"/tmp/sentiment_model\")\n",
    "\n",
    "    # Getting the prediction\n",
    "    predict_input = tokenizer.encode(sentence,\n",
    "                                     truncation =True,\n",
    "                                     padding= True,\n",
    "                                     return_tensors='tf')\n",
    "    tf_output = loaded_model.predicted(predict_input)[0]\n",
    "    tf.prediction = tf.nn.softmax(tf_output, axis=1).numpy()[0]\n",
    "    return ['negative', 'positive'][np.argmax(tf.prediction)]\n",
    "demo = gr.Interface(fn = predict, inputs = 'text', outputs = 'text', live = True)\n",
    "\n",
    "demo.launch(share=True)"
   ],
   "metadata": {
    "collapsed": false,
    "ExecuteTime": {
     "end_time": "2023-06-15T06:15:52.336269884Z",
     "start_time": "2023-06-15T06:15:33.065400108Z"
    }
   }
  },
  {
   "cell_type": "code",
   "execution_count": null,
   "outputs": [],
   "source": [],
   "metadata": {
    "collapsed": false
   }
  }
 ],
 "metadata": {
  "kernelspec": {
   "display_name": "Python 3",
   "language": "python",
   "name": "python3"
  },
  "language_info": {
   "codemirror_mode": {
    "name": "ipython",
    "version": 2
   },
   "file_extension": ".py",
   "mimetype": "text/x-python",
   "name": "python",
   "nbconvert_exporter": "python",
   "pygments_lexer": "ipython2",
   "version": "2.7.6"
  }
 },
 "nbformat": 4,
 "nbformat_minor": 0
}
